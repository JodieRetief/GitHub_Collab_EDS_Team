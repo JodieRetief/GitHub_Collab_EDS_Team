{
 "cells": [
  {
   "cell_type": "markdown",
   "id": "59b09cdf-de78-4df1-83c2-05da5b55a3c5",
   "metadata": {},
   "source": [
    "### GitHub Collab EDS Team"
   ]
  },
  {
   "cell_type": "markdown",
   "id": "db16bba6-2e35-41fb-b504-43297a65dfc0",
   "metadata": {},
   "source": [
    "### Jodie\n",
    "\n",
    "**Recursive functions**"
   ]
  },
  {
   "cell_type": "markdown",
   "id": "9f5b5602",
   "metadata": {},
   "source": [
    "##### Definition:\n",
    "A recursive function is a function that calls itself during its execution\n",
    "\n",
    "A recursive function has 2 parts:\n",
    "1. Base case(S): A condition that stops the recursive function from calling itself, preventing infinite recursion\n",
    "2. Recurvsive case: The scenario where the function calls itself with modified arguments to move closer to the base case."
   ]
  },
  {
   "cell_type": "markdown",
   "id": "dd552234",
   "metadata": {},
   "source": [
    "##### Pros:\n",
    "- Can solve complex problems with less code\n",
    "- Can be easier to understand for certain problems\n",
    "\n",
    "##### Cons:\n",
    "- Can be less efficient and use more memory compared to iterative solutions\n",
    "- May lead to stack overflow for errors for large inputs"
   ]
  },
  {
   "cell_type": "markdown",
   "id": "434a75ac",
   "metadata": {},
   "source": [
    "##### Syntax:\n",
    "\n",
    "def function_name(arguments):\n",
    "    \n",
    "    # Base case:\n",
    "    if condition:\n",
    "        return output\n",
    "    \n",
    "    # Recursive case:\n",
    "    else:\n",
    "        return output in which the function is called with modified arguments"
   ]
  },
  {
   "cell_type": "markdown",
   "id": "2f428a60",
   "metadata": {},
   "source": [
    "##### Example: Fibonacci sequence\n",
    "\n",
    "###### The Fibonacci sequence is a sequence in which each number is the sum of the two preceding ones. Fibonacci_sequence = [0, 1, 1, 2, 3, 5, 8, 13, 21, .........., n-2, n-1, n]\n"
   ]
  },
  {
   "cell_type": "code",
   "execution_count": 13,
   "id": "ba7df70d",
   "metadata": {},
   "outputs": [],
   "source": [
    "def fibonacci(n):\n",
    "    \"\"\"\n",
    "    Calculates the nth Fibonacci number\n",
    "\n",
    "    Parameters:\n",
    "        n (int): The index of the Fibonacci number to calculate.\n",
    "\n",
    "    Returns:\n",
    "        int: The nth Fibonacci number\n",
    "    \"\"\"\n",
    "    # Base case:\n",
    "    if n <= 1:\n",
    "        return n\n",
    "\n",
    "    # Recursive case:\n",
    "    else:\n",
    "        return fibonacci(n-1) + fibonacci(n-2)"
   ]
  },
  {
   "cell_type": "code",
   "execution_count": 14,
   "id": "fe0d4d94",
   "metadata": {},
   "outputs": [
    {
     "data": {
      "text/plain": [
       "2"
      ]
     },
     "execution_count": 14,
     "metadata": {},
     "output_type": "execute_result"
    }
   ],
   "source": [
    "# Usage: Change the input here to calculate the Fibonnaci number at the corresponding index\n",
    "fibonacci(3)"
   ]
  },
  {
   "cell_type": "markdown",
   "id": "4b113a62",
   "metadata": {},
   "source": [
    "**Lambda functions**"
   ]
  },
  {
   "cell_type": "markdown",
   "id": "093a3c77",
   "metadata": {},
   "source": [
    "##### Definition:\n",
    "AKA anonymous functions, lambda functions are small functions that can be expressed in a single line"
   ]
  },
  {
   "cell_type": "markdown",
   "id": "7b11522c",
   "metadata": {},
   "source": [
    "##### Use cases:\n",
    "\n",
    "- Used as arguments to higher order function like map() and filter() - See below\n",
    "- Concise one-liner functions\n",
    "\n",
    "##### Limitations:\n",
    "\n",
    "- Can only contain a single expression\n",
    "- May be less readable for complex operations\n"
   ]
  },
  {
   "cell_type": "markdown",
   "id": "41486a84",
   "metadata": {},
   "source": [
    "##### Syntax:\n",
    "\n",
    "Lambda functions do not have a name, but can be used adhoc or stored in a Python object for reuse\n",
    "\n",
    "- Single argument: \n",
    "\n",
    "    object_name = lambda argument : expression\n",
    "\n",
    "- Multiple arguments: Arguments separated by ','\n",
    "\n",
    "    object_name = lambda arg1, arg2 : expression"
   ]
  },
  {
   "cell_type": "markdown",
   "id": "9cd28de7",
   "metadata": {},
   "source": [
    "##### Example: Adding two variables (x and y)"
   ]
  },
  {
   "cell_type": "code",
   "execution_count": 16,
   "id": "ca8cba92",
   "metadata": {},
   "outputs": [],
   "source": [
    "add = lambda x, y : x + y"
   ]
  },
  {
   "cell_type": "code",
   "execution_count": 17,
   "id": "a908eebf",
   "metadata": {},
   "outputs": [
    {
     "data": {
      "text/plain": [
       "8"
      ]
     },
     "execution_count": 17,
     "metadata": {},
     "output_type": "execute_result"
    }
   ],
   "source": [
    "# Usage: Change the input here to calculate the sum of different numbers\n",
    "\n",
    "add(3,5)"
   ]
  },
  {
   "cell_type": "code",
   "execution_count": 18,
   "id": "3e145452",
   "metadata": {},
   "outputs": [
    {
     "data": {
      "text/plain": [
       "8"
      ]
     },
     "execution_count": 18,
     "metadata": {},
     "output_type": "execute_result"
    }
   ],
   "source": [
    "# Alternatively, without an object:\n",
    "\n",
    "(lambda x, y : x + y)(3,5)"
   ]
  },
  {
   "cell_type": "markdown",
   "id": "748f90cd",
   "metadata": {},
   "source": [
    "##### Mapping a lambda function to an iterable sequence\n",
    "- Allows you to to apply the lambda function to every element in a list\n",
    "- The result is a map object - we can convert this to a list using list()\n",
    "\n",
    "SYNTAX:\n",
    "list( map( lambda arguments : expression, sequence) )"
   ]
  },
  {
   "cell_type": "markdown",
   "id": "efe60edd",
   "metadata": {},
   "source": [
    "Example: Squaring each number in a list"
   ]
  },
  {
   "cell_type": "code",
   "execution_count": 20,
   "id": "2b235f6e",
   "metadata": {},
   "outputs": [
    {
     "data": {
      "text/plain": [
       "[1, 4, 9, 16, 25]"
      ]
     },
     "execution_count": 20,
     "metadata": {},
     "output_type": "execute_result"
    }
   ],
   "source": [
    "numbers = [1, 2, 3, 4, 5]\n",
    "\n",
    "list(map( lambda x : x ** 2, numbers))"
   ]
  },
  {
   "cell_type": "markdown",
   "id": "73a4f46f",
   "metadata": {},
   "source": [
    "##### Filtering an iterable sequence based on a condition using a lambda function\n",
    "\n",
    "- The filter function applies a specified function to each item in a list in order to filter out elements that do not meet the condition defined in the function\n",
    "- The result is a map object - we can convert this to a list using list()\n",
    "\n",
    "SYNTAX: list(filter( lambda arguments: conditional expression, sequence) )"
   ]
  },
  {
   "cell_type": "markdown",
   "id": "d8da226b",
   "metadata": {},
   "source": [
    "Example: Filtering out the even numbers from a list"
   ]
  },
  {
   "cell_type": "code",
   "execution_count": 22,
   "id": "2136b04a",
   "metadata": {},
   "outputs": [
    {
     "data": {
      "text/plain": [
       "[2, 4]"
      ]
     },
     "execution_count": 22,
     "metadata": {},
     "output_type": "execute_result"
    }
   ],
   "source": [
    "numbers = [1, 2, 3, 4, 5]\n",
    "\n",
    "list(filter( lambda x : x % 2 == 0, numbers))"
   ]
  },
  {
   "cell_type": "markdown",
   "id": "c8507f68-e694-4d73-a7fd-19347243fb63",
   "metadata": {},
   "source": [
    "## Amanda\n",
    "\n",
    "**Python variebles, Data types and Data Structures**"
   ]
  },
  {
   "cell_type": "markdown",
   "id": "35d0bcd7-bee0-4bb5-85a3-1599268353a4",
   "metadata": {},
   "source": [
    "##### variables\n",
    "\n",
    "variables are containers for storing data values. You can create a variable and values to it in a single line.it is a way to give a name to a memory location. It is used to calculations, storage and manipulation of data:\n",
    "\n",
    "* name: We can decide what we would like to name our variale but keep in mind it can be sh \n",
    "* assignment operatoro: t  valuable the name will be followed by the assignments operator. The assessment equalsl sin (=).\n",
    "the valu : th  value weassignn to a varile can benumericall or consist of characters ,known as stris . in this part of lesson ,we will are efocusn on sin numerical alues "
   ]
  },
  {
   "cell_type": "code",
   "execution_count": 11,
   "id": "9890bb1f-dd0c-4189-9aad-f88d5fbd21e8",
   "metadata": {},
   "outputs": [
    {
     "name": "stdout",
     "output_type": "stream",
     "text": [
      "john\n"
     ]
    }
   ],
   "source": [
    "Name = \"john\"\n",
    "print (Name)"
   ]
  },
  {
   "cell_type": "markdown",
   "id": "9d893dca-c9c4-41f0-9be6-7106eb3ac214",
   "metadata": {},
   "source": [
    "### Data tpyes\n",
    "\n",
    "python makes use of primitive variable types: integers, float, complex numbers, strings, boolean \n",
    "\n",
    "#### Python has several built-in data types:\n",
    "* ##### Numeric types:\n",
    "Integers (ints): These are positive or negative whole numbers with no fractional components, we can determine if a number is an integer or a float. This is another numerical data type that is used to represent real numbers. A decimal point is used to divide the integer and rational components of the value.\n",
    "- Complex numbers: a complex number is a distinct data type used to represent a number.\n",
    "\n"
   ]
  },
  {
   "cell_type": "markdown",
   "id": "aeb62739-88db-470a-8d7d-7850b23c10a3",
   "metadata": {},
   "source": [
    "* ##### Sequence types \n",
    "sequence types support various operations such as indexing, slicing, concatenation, repetition, and membership testing, making them versatile for many programming tasks. They allow you to store and manipulate multiple times as a single entity. Common sequence types in Python include Lists, Tuplea, Strings, Ranges, Bytes, and Bytearrays. \n"
   ]
  },
  {
   "cell_type": "markdown",
   "id": "f09b8a54-d830-473f-ba64-22aa24c0f741",
   "metadata": {},
   "source": [
    "* ##### Mapping type:'dict' \n",
    "mapping type represent collections of key-value pairs, Where each key maps to a corresponding\n",
    "value. Dictionaries are mutable and unordered collections of items and they allow you to shore data in the form of key-value pairs. overview of mapping trypes: Dictionary ,[collections: DfaultDict, OrderedDict, ChainMap]."
   ]
  },
  {
   "cell_type": "markdown",
   "id": "5165bf5c-3cb2-4e8f-894f-71042e4530b8",
   "metadata": {},
   "source": [
    "* ##### set types:\n",
    "Set represent collections of unique elements, where each element can appear only once. Sets are mutable, unorderd collection and they support mathematical set operations such as union, intersection, difference and symmetric difference. Here are set types in Python: Set, frozenset "
   ]
  },
  {
   "cell_type": "markdown",
   "id": "4fadbcbf-1775-4e79-b28e-a13ae8057c7d",
   "metadata": {},
   "source": [
    "* ##### Boolean type:'bool'\n",
    "Booleans capable of taking one of two possible values: True or false (interchangeable with the integers 1 and 0). Booleans content the flow of a program and are used to make comparisons, which play an integral role. Boolean data types can be used with comparison and logical operators \n",
    "- ###### Comparison Operations \n",
    "Equals: ==\n",
    "Not Equals: !=\n",
    "Greater Than: >\n",
    "Less Than: <\n",
    "Greater Than or Equals To: >=\n",
    "Less Than or Equal To: <=\n",
    "\n",
    "- ###### logical operator \n",
    "and: Return True if both conditions are True \n",
    "or: Returns True if at least one condition is True \n",
    "not: Return True if the condition is False and vice versa\n"
   ]
  },
  {
   "cell_type": "markdown",
   "id": "b7942e3e-39ec-4e22-a64e-1c423d6a4859",
   "metadata": {},
   "source": [
    "* ##### Text type:'str'string \n",
    "Strings are sequences of characters enclosed in either single quotes (')or double quoter (\"). String are versatile and widely used for tasks such as text processing, file handling, web scraping, data manipulation and more. Strings also support many useful methods for manipulation,\n",
    "formatting, and searching such as 'upper()', 'lowe()', 'split()', 'join()', 'replace()','startawith()', 'endswith()' and many more.A string i orderd collection where each character has specific position or index within the sequence like Positive indsxing, Negative indexing. Special characters play a crucial role in enhancing the flexibility and expressiveness of strings: Concatenation, Replication, and Silicing. \n"
   ]
  },
  {
   "cell_type": "markdown",
   "id": "831876cf-4897-4142-80d0-0cfe05170253",
   "metadata": {},
   "source": [
    "* ##### The print() function \n",
    "the print function is a versatile tool that allows us to display information on the console. It is crucial for debugging, displaying results, and communicating with users. Showcasing its utility in printing multiline outputs to enhance readability."
   ]
  },
  {
   "cell_type": "code",
   "execution_count": 8,
   "id": "114b6f5f-b99e-4059-8758-488831f70201",
   "metadata": {},
   "outputs": [
    {
     "ename": "SyntaxError",
     "evalue": "invalid syntax (1077685863.py, line 32)",
     "output_type": "error",
     "traceback": [
      "\u001b[1;36m  Cell \u001b[1;32mIn[8], line 32\u001b[1;36m\u001b[0m\n\u001b[1;33m    print(\"\\nMapping Type:\")\u001b[0m\n\u001b[1;37m    ^\u001b[0m\n\u001b[1;31mSyntaxError\u001b[0m\u001b[1;31m:\u001b[0m invalid syntax\n"
     ]
    }
   ],
   "source": [
    "# numeric types \n",
    "integer_num = 42\n",
    "float_num = 3.14 \n",
    "\n",
    "# Sequence types\n",
    "list_seq = [1, 2, 3]\n",
    "tuple_seq = (4, 5, 6)\n",
    "regne_seq = range(0, 5)\n",
    "\n",
    "# Mapping type: dictionary \n",
    "my_dict = {'key1': 'Value1', 'key2': 'Value2'}\n",
    "\n",
    "# Set type\n",
    "my_set = {1, 2, 3}\n",
    "\n",
    "# Boolean type\n",
    "bool_var = True \n",
    "\n",
    "# Text type\n",
    "strin_var = \"Hello, World!\"\n",
    "\n",
    "# using the print() function to display the alues \n",
    "print(\"Numeric Types:\")\n",
    "print(\"integer:\", integer_num)\n",
    "print(\"Float:\", float_num)\n",
    "\n",
    "print(\"\\nSequence Types:\")\n",
    "print(\"List:\", List_seq)\n",
    "print(\"Tuple:\", tuple_sep)\n",
    "print(\"Range:\", list(range_seq)\n",
    "      \n",
    "print(\"\\nMapping Type:\")\n",
    "print(\"Dictionary:\", my_dict)\n",
    "      \n",
    "print(\"\\nSet Types:\")\n",
    "print(\"Set:\", my_set)\n",
    "      \n",
    "print(\"\\nBoolean Type:\")\n",
    "print(\"Boolean Variable:\", bool_ar)\n",
    "      \n",
    "Print(\"\\nText Type:\")\n",
    "print(\"strin Variable:\", string_var)\n"
   ]
  },
  {
   "cell_type": "markdown",
   "id": "1418df33-df7d-4f97-ba3b-d20aece87064",
   "metadata": {},
   "source": [
    "#### Data Structures "
   ]
  },
  {
   "cell_type": "markdown",
   "id": "45b6eaea-6d68-4243-b28f-0a5fe33183ba",
   "metadata": {},
   "source": [
    "* List Orderd\n",
    "A list is a flexible data structure, starting with an index of 0, making it possible for us to access items through their indexes.Their ordered nature also allows for duplicatesed item. lists are mutable and elements can be modified, added,\n",
    "or removed as requird."
   ]
  },
  {
   "cell_type": "markdown",
   "id": "5113bace-03eb-4e14-b955-b9a5968628a0",
   "metadata": {},
   "source": [
    "* Tuples: Ordered,\n",
    "Tuples ,immutable collection of items. allow duplicate items since they can be differentiated useing their index.Since tuples are immutable, we cannot change,add or remove items from a tuple once it has been created "
   ]
  },
  {
   "cell_type": "markdown",
   "id": "052ea4de-4328-4ec2-9d82-66e1d5877785",
   "metadata": {},
   "source": [
    "* Sets:Unordered collection of unique item.Set is a data type in python using to store several items in a single variable. \n"
   ]
  },
  {
   "cell_type": "markdown",
   "id": "a3955c59-9778-47ec-9182-2d276193d810",
   "metadata": {},
   "source": [
    "* Dictionaries;\n",
    "Dictionaries collection of key-value pairs. The final python data structure we will look at \n",
    "is dictionary.They store a collection of key based items of any data type, defined within curly brackets."
   ]
  },
  {
   "cell_type": "code",
   "execution_count": null,
   "id": "c59dca3f-36a7-41ca-95ca-06835c20a145",
   "metadata": {},
   "outputs": [],
   "source": [
    "{'name :john','age'30}"
   ]
  },
  {
   "cell_type": "markdown",
   "id": "8751fabc-fa03-41b3-908f-94325a73f7c1",
   "metadata": {},
   "source": [
    "## Kamogelo\n",
    "\n",
    "**Logic and Loops in Python**"
   ]
  },
  {
   "cell_type": "code",
   "execution_count": null,
   "id": "9506533e-89c8-4dd8-90a7-8d5d2bcab4bf",
   "metadata": {},
   "outputs": [],
   "source": []
  },
  {
   "cell_type": "markdown",
   "id": "adb1f0f9-d3ed-49d0-9df3-cc3664e9c6c3",
   "metadata": {},
   "source": [
    "## Clement\n",
    "\n",
    "## OOP core principles:\n",
    "\n",
    "- Object Oriented programming is a way of organizing code by using code structures called classes\n",
    "- These classes act as a container for code and resemble real world entites\n",
    "  \n",
    "**Definition: Class and Object**\n",
    "\n",
    "- Classes in OOP are like blueprints or templates for creating objects, while an object is a specific instance of a class, which contains attributes and behaviors defined in the class.\n",
    "\n",
    "**Definiton: Methods**\n",
    "\n",
    "- Methods in object-oriented programming (OOP) are functions associated with objects or classes. They define behavior, operate on object data, and encapsulate functionality within classes\n",
    "\n",
    "\n",
    "**Four pillars of OOP core principles:**\n",
    "\n",
    "1. Encapsulation\n",
    "2. Inheritance\n",
    "3. Polymorphism\n",
    "4. Abstraction\n",
    "\n"
   ]
  },
  {
   "cell_type": "markdown",
   "id": "89571f9e-5815-46fa-9b65-c53ee7545dbf",
   "metadata": {},
   "source": [
    "## Steps for creating a class"
   ]
  },
  {
   "cell_type": "markdown",
   "id": "5b20db16-fa61-42e8-abba-d00389d5b08d",
   "metadata": {},
   "source": [
    "**Step 1: Define the Class: Use the class keyword followed by the class name, using CamelCase convention.**"
   ]
  },
  {
   "cell_type": "code",
   "execution_count": null,
   "id": "65811236-8c6c-4fc2-8d07-1265c1f90207",
   "metadata": {},
   "outputs": [],
   "source": [
    "class Tree:"
   ]
  },
  {
   "cell_type": "markdown",
   "id": "05b4c94a-051d-41e0-bbb1-172c6d6668d4",
   "metadata": {},
   "source": [
    "**Step 2: Initialize the Class: Define the __init__ method to initialize object attributes.**"
   ]
  },
  {
   "cell_type": "code",
   "execution_count": null,
   "id": "618f16b7-7608-480c-b923-1d1ae5b9a915",
   "metadata": {},
   "outputs": [],
   "source": [
    "def __init__(self, species, height, age):\n",
    "    # Constructor method to initialise the tree's attributes\n",
    "    self.species = species  # The species of the tree\n",
    "    self.height = height    # The height of the tree in meters\n",
    "    self.age = age          # The age of the tree in years\n",
    "    # Add more attributes if needed\n"
   ]
  },
  {
   "cell_type": "markdown",
   "id": "071b15bb-3144-4320-9636-7895d50acff1",
   "metadata": {},
   "source": [
    "**Step 3: Define Methods: Define methods (functions) inside the class to perform operations on the object's attributes.**"
   ]
  },
  {
   "cell_type": "code",
   "execution_count": null,
   "id": "6dc987fd-31b6-4728-aaae-b652247849bf",
   "metadata": {},
   "outputs": [],
   "source": [
    "def describe(self):\n",
    "        # Method to describe the tree\n",
    "        return f\"A {self.age}-year-old {self.species} tree, about {self.height} meters tall.\""
   ]
  },
  {
   "cell_type": "markdown",
   "id": "638d4dcf-be87-4734-94ff-f6457508e0e4",
   "metadata": {},
   "source": [
    "**Step 4: Combine the code to create a class**"
   ]
  },
  {
   "cell_type": "code",
   "execution_count": 1,
   "id": "5ec4e8d4-0981-499a-b5ea-f9fed3f3de96",
   "metadata": {},
   "outputs": [],
   "source": [
    "class Tree:\n",
    "    def __init__(self, species, height, age):\n",
    "        # Constructor method to initialise the tree's attributes\n",
    "        self.species = species  # The species of the tree\n",
    "        self.height = height    # The height of the tree in meters\n",
    "        self.age = age          # The age of the tree in years\n",
    "\n",
    "    def describe(self):\n",
    "        # Method to describe the tree\n",
    "        return f\"A {self.age}-year-old {self.species} tree, about {self.height} meters tall.\"\n"
   ]
  },
  {
   "cell_type": "markdown",
   "id": "8e55b6fb-f667-4a66-9781-b2b65f4bd736",
   "metadata": {},
   "source": [
    "**To access object attributes, create instances (objects) of the class by calling the class name followed by parentheses.**"
   ]
  },
  {
   "cell_type": "code",
   "execution_count": null,
   "id": "39d14fc5-5a38-472f-90e0-c053e481ebfc",
   "metadata": {},
   "outputs": [],
   "source": [
    "object_name = ClassName(arguments)\n",
    "\n",
    "object_name.attribute\n",
    "object_name.method(arguments)"
   ]
  },
  {
   "cell_type": "markdown",
   "id": "a514873b-5753-4232-b068-1f734cb7af6f",
   "metadata": {},
   "source": [
    "\n",
    "**Encapsulation:**\n",
    "\n",
    "Encapsulation refers to the bundling of data and methods that operate on the data into a single unit, typically called a class. It hides the internal state of an object from the outside world and only exposes a public interface for interacting with the object."
   ]
  },
  {
   "cell_type": "markdown",
   "id": "c0872ee3-8b30-4ef4-9d49-f154ce8d2506",
   "metadata": {},
   "source": [
    "**Example: Encapsulation**\n",
    "\n",
    "**Scenario explanation**: In our Tree class, encapsulation is demonstrated by how the attributes (species, height, age) and the method (describe) are enclosed within the class. This design allows us to create tree objects with their properties and behaviors neatly packaged together."
   ]
  },
  {
   "cell_type": "code",
   "execution_count": null,
   "id": "d1610653-fe93-474d-b6a0-692b04890c78",
   "metadata": {},
   "outputs": [],
   "source": [
    "# Using the previously defined Tree class\n",
    "\n",
    "# Creating another tree object\n",
    "pine = Tree(\"Pine\", 15, 50)\n",
    "print(pine.describe())\n",
    "\n",
    "# Attempting to access attributes directly\n",
    "print(f\"Species of the tree: {pine.species}\")\n",
    "print(f\"Height of the tree: {pine.height}\")"
   ]
  },
  {
   "cell_type": "markdown",
   "id": "b888bdec-3a74-4df4-935f-3700c189c6d5",
   "metadata": {},
   "source": [
    "**Inheritance:**\n",
    "\n",
    "Inheritance allows a class (subclass or child class) to inherit attributes and methods from another class (superclass or parent class). This promotes code reusability and allows for the creation of hierarchical relationships between classes.\n"
   ]
  },
  {
   "cell_type": "markdown",
   "id": "0ec61122-7a35-46a2-a783-4684a96a63b3",
   "metadata": {},
   "source": [
    "**Example: Inheritance**\n",
    "\n",
    "**Scenario explanation**: Imagine a tree ecosystem where we have a `Tree` class as our base class with attributes like `species`, `age`, and `height`, and methods `grow()` and `reseed()`. From this base class, we derive two subclasses: `Oak` and `Pine`.\n",
    "\n",
    "The `Oak` class inherits the properties and methods from `Tree` and adds its own method `budding()`. Similarly, the `Pine` class inherits from `Tree` and adds a `cone_count()` method."
   ]
  },
  {
   "cell_type": "code",
   "execution_count": null,
   "id": "e8fd2412-d31b-4dfd-b9ed-9009971ada8a",
   "metadata": {},
   "outputs": [],
   "source": [
    "# Tree class, our base/parent class\n",
    "class Tree:\n",
    "    def __init__(self, species, age, height):\n",
    "        self.species = species\n",
    "        self.age = age\n",
    "        self.height = height\n",
    "\n",
    "    def grow(self):\n",
    "        self.height += 1  # Simplified growth logic\n",
    "\n",
    "    def reseed(self):\n",
    "        print(f\"The {self.species} tree disperses seeds for new trees.\")\n",
    "\n",
    "\n",
    "# Oak and Pine subclasses, our derived/child classes\n",
    "class Oak(Tree):\n",
    "    def budding(self):\n",
    "        print(f\"The {self.species} tree is budding new leaves.\")\n",
    "\n",
    "class Pine(Tree):\n",
    "    def cone_count(self):\n",
    "        print(f\"The {self.species} tree has many cones.\")\n",
    "\n",
    "# Creating objects of the subclasses\n",
    "oak_tree = Oak(\"Oak\", 100, 20)\n",
    "pine_tree = Pine(\"Pine\", 50, 15)\n",
    "\n",
    "# Demonstrating inherited methods\n",
    "oak_tree.grow()\n",
    "pine_tree.grow()\n",
    "\n",
    "# Demonstrating new methods in the subclasses\n",
    "oak_tree.budding()\n",
    "pine_tree.cone_count()\n"
   ]
  },
  {
   "cell_type": "markdown",
   "id": "9a4fb42a-ccad-4a83-af53-cefc0b99632d",
   "metadata": {},
   "source": [
    "**Polymorphism:**\n",
    "\n",
    "Polymorphism allows objects of different classes to be treated as objects of a common superclass, it allows objects of different classes to respond to the same message—or method call—in ways appropriate to their types. This means that the same method can behave differently in different classes\n"
   ]
  },
  {
   "cell_type": "markdown",
   "id": "bc7a4464-4ba9-4ddf-958c-653c8a1d647c",
   "metadata": {},
   "source": [
    "**Example: Polymorphism**\n",
    "\n",
    "**Scenario explanation**: Let's say we have two subclasses, `Oak` and `Pine`, that stem from the same parent class `Tree`. Each subclass can respond to common messages like `grow()` and `reseed()`. However, due to polymorphism, when the `grow()` signal is sent, both `Oak` and `Pine` trees will grow, but the way they grow and how much they grow can vary. When the `reseed()` signal is sent, both types of trees will disperse seeds, but the types of seeds and the method of dispersal might be different. Furthermore, each type of tree may have additional processes that are unique to its kind, such as `budding()` in Oaks or `cone_count()` in Pines.\n"
   ]
  },
  {
   "cell_type": "code",
   "execution_count": null,
   "id": "e7946b21-2281-4ec8-b396-ddab7a4e394f",
   "metadata": {},
   "outputs": [],
   "source": [
    "class Tree:\n",
    "    def __init__(self, species, age, height):\n",
    "        self.species = species\n",
    "        self.age = age\n",
    "        self.height = height\n",
    "\n",
    "    def grow(self):\n",
    "        # Simulate the tree growing taller\n",
    "        self.height += 1\n",
    "        print(f\"Polymorphism in action: A {self.species} tree grows, increasing its height to {self.height} meters.\")\n",
    "\n",
    "    def reseed(self):\n",
    "        # Simulate the tree dispersing seeds\n",
    "        print(f\"Polymorphism in action: A {self.species} tree disperses seeds to propagate its species.\")\n",
    "\n",
    "class Oak(Tree):\n",
    "    def budding(self):\n",
    "        # Simulate an Oak-specific behaviour\n",
    "        print(f\"Unique to Oak: As the season changes, the Oak tree begins to develop buds.\")\n",
    "\n",
    "class Pine(Tree):\n",
    "    def cone_count(self):\n",
    "        # Simulate a Pine-specific behaviour\n",
    "        print(f\"Unique to Pine: The Pine tree, apart from growing and reseeding, also counts its cones as part of its unique yearly cycle.\")\n",
    "\n",
    "# Creating objects of each subclass\n",
    "oak_tree = Oak(\"Oak\", 10, 5)\n",
    "pine_tree = Pine(\"Pine\", 7, 8)\n",
    "\n",
    "# Demonstrating polymorphism with more explanatory print statements\n",
    "for tree in (oak_tree, pine_tree):\n",
    "    tree.grow()    # Both Oak and Pine respond to the grow method\n",
    "    tree.reseed()  # Both Oak and Pine respond to the reseed method\n",
    "    if isinstance(tree, Oak):\n",
    "        tree.budding()  # Only Oak responds to the budding method\n",
    "    elif isinstance(tree, Pine):\n",
    "        tree.cone_count()  # Only Pine responds to the cone_count method\n"
   ]
  },
  {
   "cell_type": "markdown",
   "id": "640067f9-aa1f-4beb-917c-9d4e8ad22549",
   "metadata": {},
   "source": [
    "**Abstraction:**\n",
    "\n",
    " Abstraction refers to the process of simplifying complex systems by modeling only the relevant aspects of the system while hiding unnecessary details, it is a concept of hiding the complex reality while exposing only the necessary parts"
   ]
  },
  {
   "cell_type": "markdown",
   "id": "33f1088b-266b-41c1-9f85-d0823ebae55b",
   "metadata": {},
   "source": [
    "**Example: Abstraction**\n",
    "\n",
    "**Scenario explanation**: Let's say we want to provide a simple interface for the growth of various types of trees without needing to understand the intricate details of how each tree grows. The `Tree` class will represent the abstract concept of a tree with the method `grow()`, which is an abstract method because it's not implemented. Specific types of trees, such as `EvergreenTree`, will provide concrete implementations of the `grow()` method."
   ]
  },
  {
   "cell_type": "code",
   "execution_count": null,
   "id": "c8c06c3f-c16e-4bd8-93b6-4ba208480aa3",
   "metadata": {},
   "outputs": [],
   "source": [
    "class Tree:\n",
    "    def __init__(self, species, height, age):\n",
    "        self.species = species\n",
    "        self.height = height\n",
    "        self.age = age\n",
    "\n",
    "    def grow(self):\n",
    "        # Abstract method, details will be defined in the subclass\n",
    "        pass # In Python, the pass statement is used as a placeholder for future code.\n",
    "\n",
    "class EvergreenTree(Tree):\n",
    "    def __init__(self, species, height, age, needle_type):\n",
    "        super().__init__(species, height, age)\n",
    "        self.needle_type = needle_type\n",
    "\n",
    "    def grow(self):\n",
    "        # Implementing the specific way an Evergreen tree grows\n",
    "        self.height += 1\n",
    "        print(f\"The evergreen tree grows taller by one meter, now standing at {self.height} meters.\")\n",
    "\n",
    "# Use the abstraction\n",
    "my_tree = EvergreenTree(\"Spruce\", 5, 20, \"short needles\")\n",
    "my_tree.grow()  # The user doesn't need to know how the tree grows, just that it does"
   ]
  },
  {
   "cell_type": "markdown",
   "id": "6d294473-4773-4838-bc86-0f68c6054732",
   "metadata": {},
   "source": [
    "## Kgolo\n",
    "\n",
    "**Functions**"
   ]
  },
  {
   "cell_type": "code",
   "execution_count": null,
   "id": "11267cd3-cdc4-4b49-a28f-c00d3d899e5e",
   "metadata": {},
   "outputs": [],
   "source": []
  },
  {
   "cell_type": "markdown",
   "id": "ca11f38a-2b07-44d0-9cc1-d9111d48e167",
   "metadata": {},
   "source": [
    "## Paballo\n",
    "\n",
    "**Numpy**"
   ]
  },
  {
   "cell_type": "code",
   "execution_count": null,
   "id": "9d9a4973-dc9a-472c-91a9-5c56d12355c0",
   "metadata": {},
   "outputs": [],
   "source": []
  },
  {
   "cell_type": "markdown",
   "id": "9ee0b431-215b-4ade-96a5-33b2f5728c14",
   "metadata": {},
   "source": [
    "## Amatulla\n",
    "\n",
    "**Pandas**"
   ]
  },
  {
   "cell_type": "code",
   "execution_count": null,
   "id": "98f32c47-468e-4624-8f7d-5b39e8aea43e",
   "metadata": {},
   "outputs": [],
   "source": []
  }
 ],
 "metadata": {
  "kernelspec": {
   "display_name": "Python 3 (ipykernel)",
   "language": "python",
   "name": "python3"
  },
  "language_info": {
   "codemirror_mode": {
    "name": "ipython",
    "version": 3
   },
   "file_extension": ".py",
   "mimetype": "text/x-python",
   "name": "python",
   "nbconvert_exporter": "python",
   "pygments_lexer": "ipython3",
   "version": "3.9.16"
  }
 },
 "nbformat": 4,
 "nbformat_minor": 5
}
